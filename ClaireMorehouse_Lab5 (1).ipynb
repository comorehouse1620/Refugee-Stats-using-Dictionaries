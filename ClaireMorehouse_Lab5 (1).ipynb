{
  "nbformat": 4,
  "nbformat_minor": 0,
  "metadata": {
    "colab": {
      "name": "ClaireMorehouse_Lab5.ipynb",
      "provenance": []
    },
    "kernelspec": {
      "name": "python3",
      "display_name": "Python 3"
    }
  },
  "cells": [
    {
      "cell_type": "code",
      "metadata": {
        "id": "-D9oFUhAG7E0"
      },
      "source": [
        "'''\n",
        "Name: Claire Morehouse\n",
        "Date Created: October 1st, 2020\n",
        "Version of Python using: Google Colab\n",
        "Inputs: Dictionary created called \"refugees\"\n",
        "Outputs: from function countryname: list of countries; from function populations: just populations of refugee camps printed out; from function entiredict:\n",
        "print statements that lists country and population for the dictionary.\n",
        "'''"
      ],
      "execution_count": null,
      "outputs": []
    },
    {
      "cell_type": "code",
      "metadata": {
        "id": "3xgsEKekLLCT",
        "outputId": "c00c8085-c869-49f4-9b2d-629bc9830757",
        "colab": {
          "base_uri": "https://localhost:8080/",
          "height": 34
        }
      },
      "source": [
        "refugees = {'Dijibout': 6739, 'India':69609, 'Iran':12715, 'Iraq':11900, 'Mozambique':5019}\n",
        "print(refugees) #check to see if dictionary works\n"
      ],
      "execution_count": 1,
      "outputs": [
        {
          "output_type": "stream",
          "text": [
            "{'Dijibout': 6739, 'India': 69609, 'Iran': 12715, 'Iraq': 11900, 'Mozambique': 5019}\n"
          ],
          "name": "stdout"
        }
      ]
    },
    {
      "cell_type": "code",
      "metadata": {
        "id": "9a9PH_xKOA2V",
        "outputId": "179d88e6-79b0-4742-bd98-f78f0d0c5899",
        "colab": {
          "base_uri": "https://localhost:8080/",
          "height": 102
        }
      },
      "source": [
        "def countryname(): # loop through the dictionary and print out just country names\n",
        "  for item in refugees:\n",
        "    print(item)\n",
        "countryname()"
      ],
      "execution_count": 3,
      "outputs": [
        {
          "output_type": "stream",
          "text": [
            "Dijibout\n",
            "India\n",
            "Iran\n",
            "Iraq\n",
            "Mozambique\n"
          ],
          "name": "stdout"
        }
      ]
    },
    {
      "cell_type": "code",
      "metadata": {
        "id": "39mDm8URP6T6",
        "outputId": "6a816df4-a9bf-49ec-9b6a-c24ebb38b384",
        "colab": {
          "base_uri": "https://localhost:8080/",
          "height": 102
        }
      },
      "source": [
        "def populations(): # loop through the dictionary and print out just populations\n",
        "  for item in refugees:\n",
        "    print(refugees[item]) \n",
        "populations()"
      ],
      "execution_count": 15,
      "outputs": [
        {
          "output_type": "stream",
          "text": [
            "6739\n",
            "69609\n",
            "12715\n",
            "11900\n",
            "5019\n"
          ],
          "name": "stdout"
        }
      ]
    },
    {
      "cell_type": "code",
      "metadata": {
        "id": "7du_xXEOYEza",
        "outputId": "1ef4275a-94be-400e-d870-f59f40d1d476",
        "colab": {
          "base_uri": "https://localhost:8080/",
          "height": 102
        }
      },
      "source": [
        "def entiredict(): #loop through dictionary and print out country and populations\n",
        "\n",
        "  for item in refugees:\n",
        "    print(str(item) + \" has \" + str(refugees[item]) + \" refugees\") #change to strings to concatenate \n",
        "\n",
        "entiredict()\n",
        "\n"
      ],
      "execution_count": 50,
      "outputs": [
        {
          "output_type": "stream",
          "text": [
            "Dijibout has 6739 refugees\n",
            "India has 69609 refugees\n",
            "Iran has 12715 refugees\n",
            "Iraq has 11900 refugees\n",
            "Mozambique has 5019 refugees\n"
          ],
          "name": "stdout"
        }
      ]
    }
  ]
}